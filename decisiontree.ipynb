{
 "cells": [
  {
   "cell_type": "markdown",
   "metadata": {
    "id": "Zv9DR_RRgjPk"
   },
   "source": [
    "First, import the required libraries"
   ]
  },
  {
   "cell_type": "code",
   "execution_count": 1,
   "metadata": {
    "id": "BBoT9458ggQb"
   },
   "outputs": [],
   "source": [
    "import pandas as pd\n",
    "import numpy as np\n",
    "from sklearn import tree"
   ]
  },
  {
   "cell_type": "code",
   "execution_count": 21,
   "metadata": {},
   "outputs": [],
   "source": [
    "df=pd.read_csv(r\"C:\\Users\\Student\\Desktop\\Reich\\student_dataset.csv\")\n"
   ]
  },
  {
   "cell_type": "code",
   "execution_count": 25,
   "metadata": {},
   "outputs": [
    {
     "data": {
      "text/html": [
       "<div>\n",
       "<style scoped>\n",
       "    .dataframe tbody tr th:only-of-type {\n",
       "        vertical-align: middle;\n",
       "    }\n",
       "\n",
       "    .dataframe tbody tr th {\n",
       "        vertical-align: top;\n",
       "    }\n",
       "\n",
       "    .dataframe thead th {\n",
       "        text-align: right;\n",
       "    }\n",
       "</style>\n",
       "<table border=\"1\" class=\"dataframe\">\n",
       "  <thead>\n",
       "    <tr style=\"text-align: right;\">\n",
       "      <th></th>\n",
       "      <th>Grades</th>\n",
       "      <th>Attendance</th>\n",
       "      <th>Study Hours</th>\n",
       "      <th>Label</th>\n",
       "    </tr>\n",
       "  </thead>\n",
       "  <tbody>\n",
       "    <tr>\n",
       "      <th>0</th>\n",
       "      <td>46</td>\n",
       "      <td>0.62</td>\n",
       "      <td>2</td>\n",
       "      <td>Weak</td>\n",
       "    </tr>\n",
       "    <tr>\n",
       "      <th>1</th>\n",
       "      <td>59</td>\n",
       "      <td>0.71</td>\n",
       "      <td>3</td>\n",
       "      <td>Weak</td>\n",
       "    </tr>\n",
       "    <tr>\n",
       "      <th>2</th>\n",
       "      <td>54</td>\n",
       "      <td>0.67</td>\n",
       "      <td>3</td>\n",
       "      <td>Weak</td>\n",
       "    </tr>\n",
       "    <tr>\n",
       "      <th>3</th>\n",
       "      <td>50</td>\n",
       "      <td>0.62</td>\n",
       "      <td>3</td>\n",
       "      <td>Weak</td>\n",
       "    </tr>\n",
       "    <tr>\n",
       "      <th>4</th>\n",
       "      <td>47</td>\n",
       "      <td>0.60</td>\n",
       "      <td>4</td>\n",
       "      <td>Weak</td>\n",
       "    </tr>\n",
       "  </tbody>\n",
       "</table>\n",
       "</div>"
      ],
      "text/plain": [
       "   Grades  Attendance  Study Hours Label\n",
       "0      46        0.62            2  Weak\n",
       "1      59        0.71            3  Weak\n",
       "2      54        0.67            3  Weak\n",
       "3      50        0.62            3  Weak\n",
       "4      47        0.60            4  Weak"
      ]
     },
     "execution_count": 25,
     "metadata": {},
     "output_type": "execute_result"
    }
   ],
   "source": [
    "df.head()"
   ]
  },
  {
   "cell_type": "code",
   "execution_count": 27,
   "metadata": {
    "id": "PkfAtne6fk77"
   },
   "outputs": [],
   "source": [
    "#assign data and column\n",
    "X=df.drop('Label',axis=1)\n",
    "y=df['Label']"
   ]
  },
  {
   "cell_type": "code",
   "execution_count": 29,
   "metadata": {},
   "outputs": [
    {
     "data": {
      "text/plain": [
       "Label\n",
       "Weak        100\n",
       "Advanced    100\n",
       "Average     100\n",
       "Name: count, dtype: int64"
      ]
     },
     "execution_count": 29,
     "metadata": {},
     "output_type": "execute_result"
    }
   ],
   "source": [
    "#check class imbalance\n",
    "df['Label'].value_counts()"
   ]
  },
  {
   "cell_type": "code",
   "execution_count": 31,
   "metadata": {},
   "outputs": [],
   "source": [
    "from sklearn.preprocessing import StandardScaler\n",
    "\n",
    "scaler = StandardScaler()\n",
    "df[['Grades', 'Attendance', 'Study Hours']] = scaler.fit_transform(df[['Grades', 'Attendance', 'Study Hours']])\n"
   ]
  },
  {
   "cell_type": "code",
   "execution_count": 32,
   "metadata": {},
   "outputs": [
    {
     "data": {
      "text/html": [
       "<div>\n",
       "<style scoped>\n",
       "    .dataframe tbody tr th:only-of-type {\n",
       "        vertical-align: middle;\n",
       "    }\n",
       "\n",
       "    .dataframe tbody tr th {\n",
       "        vertical-align: top;\n",
       "    }\n",
       "\n",
       "    .dataframe thead th {\n",
       "        text-align: right;\n",
       "    }\n",
       "</style>\n",
       "<table border=\"1\" class=\"dataframe\">\n",
       "  <thead>\n",
       "    <tr style=\"text-align: right;\">\n",
       "      <th></th>\n",
       "      <th>Grades</th>\n",
       "      <th>Attendance</th>\n",
       "      <th>Study Hours</th>\n",
       "      <th>Label</th>\n",
       "    </tr>\n",
       "  </thead>\n",
       "  <tbody>\n",
       "    <tr>\n",
       "      <th>0</th>\n",
       "      <td>-1.323472</td>\n",
       "      <td>-1.653266</td>\n",
       "      <td>-1.268335</td>\n",
       "      <td>Weak</td>\n",
       "    </tr>\n",
       "    <tr>\n",
       "      <th>1</th>\n",
       "      <td>-0.582935</td>\n",
       "      <td>-0.765474</td>\n",
       "      <td>-0.833974</td>\n",
       "      <td>Weak</td>\n",
       "    </tr>\n",
       "    <tr>\n",
       "      <th>2</th>\n",
       "      <td>-0.867757</td>\n",
       "      <td>-1.160048</td>\n",
       "      <td>-0.833974</td>\n",
       "      <td>Weak</td>\n",
       "    </tr>\n",
       "    <tr>\n",
       "      <th>3</th>\n",
       "      <td>-1.095615</td>\n",
       "      <td>-1.653266</td>\n",
       "      <td>-0.833974</td>\n",
       "      <td>Weak</td>\n",
       "    </tr>\n",
       "    <tr>\n",
       "      <th>4</th>\n",
       "      <td>-1.266508</td>\n",
       "      <td>-1.850553</td>\n",
       "      <td>-0.399612</td>\n",
       "      <td>Weak</td>\n",
       "    </tr>\n",
       "    <tr>\n",
       "      <th>...</th>\n",
       "      <td>...</td>\n",
       "      <td>...</td>\n",
       "      <td>...</td>\n",
       "      <td>...</td>\n",
       "    </tr>\n",
       "    <tr>\n",
       "      <th>295</th>\n",
       "      <td>-0.298114</td>\n",
       "      <td>-0.074969</td>\n",
       "      <td>-0.399612</td>\n",
       "      <td>Average</td>\n",
       "    </tr>\n",
       "    <tr>\n",
       "      <th>296</th>\n",
       "      <td>0.385459</td>\n",
       "      <td>0.122318</td>\n",
       "      <td>0.034749</td>\n",
       "      <td>Average</td>\n",
       "    </tr>\n",
       "    <tr>\n",
       "      <th>297</th>\n",
       "      <td>0.328495</td>\n",
       "      <td>0.516892</td>\n",
       "      <td>0.469110</td>\n",
       "      <td>Average</td>\n",
       "    </tr>\n",
       "    <tr>\n",
       "      <th>298</th>\n",
       "      <td>0.271530</td>\n",
       "      <td>-0.370900</td>\n",
       "      <td>-0.833974</td>\n",
       "      <td>Average</td>\n",
       "    </tr>\n",
       "    <tr>\n",
       "      <th>299</th>\n",
       "      <td>0.271530</td>\n",
       "      <td>-0.666831</td>\n",
       "      <td>0.903472</td>\n",
       "      <td>Average</td>\n",
       "    </tr>\n",
       "  </tbody>\n",
       "</table>\n",
       "<p>300 rows × 4 columns</p>\n",
       "</div>"
      ],
      "text/plain": [
       "       Grades  Attendance  Study Hours    Label\n",
       "0   -1.323472   -1.653266    -1.268335     Weak\n",
       "1   -0.582935   -0.765474    -0.833974     Weak\n",
       "2   -0.867757   -1.160048    -0.833974     Weak\n",
       "3   -1.095615   -1.653266    -0.833974     Weak\n",
       "4   -1.266508   -1.850553    -0.399612     Weak\n",
       "..        ...         ...          ...      ...\n",
       "295 -0.298114   -0.074969    -0.399612  Average\n",
       "296  0.385459    0.122318     0.034749  Average\n",
       "297  0.328495    0.516892     0.469110  Average\n",
       "298  0.271530   -0.370900    -0.833974  Average\n",
       "299  0.271530   -0.666831     0.903472  Average\n",
       "\n",
       "[300 rows x 4 columns]"
      ]
     },
     "execution_count": 32,
     "metadata": {},
     "output_type": "execute_result"
    }
   ],
   "source": [
    "df"
   ]
  },
  {
   "cell_type": "code",
   "execution_count": 33,
   "metadata": {
    "id": "gwYX-he_eMnP"
   },
   "outputs": [],
   "source": [
    "#train test split\n",
    "from sklearn.model_selection import train_test_split\n",
    "X_train,X_test,Y_train,Y_test=train_test_split(X,y,test_size = 0.2,random_state = 42)"
   ]
  },
  {
   "cell_type": "markdown",
   "metadata": {},
   "source": [
    "clf = tree.DecisionTreeClassifier(\n",
    "    criterion=\"entropy\",         # Uses information gain (entropy) for splitting  \n",
    "    max_depth=3,                 # Limits the depth of the tree to prevent overfitting  \n",
    "    min_samples_split=20,        # Minimum samples required to split an internal node  \n",
    "    min_samples_leaf=5,          # Minimum samples required to be a leaf node  \n",
    "    splitter='best',             # Selects the best feature for splitting  \n",
    "    max_features='sqrt',         # Uses the square root of the total features for best split  \n",
    "    ccp_alpha=0.05               # Pruning parameter to reduce complexity  \n",
    ")"
   ]
  },
  {
   "cell_type": "code",
   "execution_count": 35,
   "metadata": {
    "id": "cUgerRffg_km"
   },
   "outputs": [
    {
     "name": "stdout",
     "output_type": "stream",
     "text": [
      "Cross-validation Accuracy: 0.8541666666666666\n",
      "[0.8125     0.875      0.72916667 1.         0.85416667]\n"
     ]
    }
   ],
   "source": [
    "#train classifier\n",
    "clf = tree.DecisionTreeClassifier(criterion=\"entropy\",max_depth=2, min_samples_split=10,min_samples_leaf=5,splitter='best', max_features='sqrt',ccp_alpha=0.01) # defining decision tree classifier\n",
    "from sklearn.model_selection import cross_val_score\n",
    "scores = cross_val_score(clf, X_train, Y_train, cv=5)\n",
    "print(\"Cross-validation Accuracy:\", scores.mean())\n",
    "print(scores)"
   ]
  },
  {
   "cell_type": "code",
   "execution_count": 36,
   "metadata": {},
   "outputs": [],
   "source": [
    "clf=clf.fit(X_train,Y_train) # train data on new data and new target\n",
    "prediction = clf.predict(X_test) #  assign removed data as input"
   ]
  },
  {
   "cell_type": "code",
   "execution_count": 37,
   "metadata": {},
   "outputs": [
    {
     "data": {
      "text/plain": [
       "array(['Advanced', 'Advanced', 'Advanced', 'Weak', 'Weak', 'Advanced',\n",
       "       'Advanced', 'Advanced', 'Weak', 'Advanced', 'Average', 'Weak',\n",
       "       'Weak', 'Weak', 'Advanced', 'Advanced', 'Weak', 'Advanced',\n",
       "       'Advanced', 'Advanced', 'Weak', 'Advanced', 'Average', 'Weak',\n",
       "       'Advanced', 'Weak', 'Advanced', 'Weak', 'Advanced', 'Weak', 'Weak',\n",
       "       'Advanced', 'Weak', 'Weak', 'Weak', 'Advanced', 'Weak', 'Weak',\n",
       "       'Weak', 'Weak', 'Weak', 'Weak', 'Average', 'Weak', 'Weak', 'Weak',\n",
       "       'Advanced', 'Weak', 'Advanced', 'Average', 'Advanced', 'Advanced',\n",
       "       'Advanced', 'Weak', 'Advanced', 'Weak', 'Weak', 'Weak', 'Advanced',\n",
       "       'Weak'], dtype=object)"
      ]
     },
     "execution_count": 37,
     "metadata": {},
     "output_type": "execute_result"
    }
   ],
   "source": [
    "prediction"
   ]
  },
  {
   "cell_type": "code",
   "execution_count": 38,
   "metadata": {
    "id": "tdJLc893hYiJ"
   },
   "outputs": [],
   "source": [
    "from sklearn.metrics import accuracy_score\n"
   ]
  },
  {
   "cell_type": "markdown",
   "metadata": {
    "id": "vChEwhzQhE-T"
   },
   "source": [
    "we check if our predicted labels match the original labels"
   ]
  },
  {
   "cell_type": "code",
   "execution_count": 40,
   "metadata": {
    "colab": {
     "base_uri": "https://localhost:8080/"
    },
    "id": "UlU0VLLUhCgk",
    "outputId": "8a7d9286-21c7-4016-93e5-6ee7c6a1e1cd"
   },
   "outputs": [
    {
     "name": "stdout",
     "output_type": "stream",
     "text": [
      "Train data accuracy: 0.7666666666666667\n",
      "Test data accuracy: 0.7\n"
     ]
    }
   ],
   "source": [
    "#print(\"Original Labels\",X_test)\n",
    "#print(\"Labels Predicted\",prediction)\n",
    "\n",
    "print(\"Train data accuracy:\",accuracy_score(y_true =Y_train, y_pred=clf.predict(X_train)))\n",
    "print(\"Test data accuracy:\",accuracy_score(y_true = Y_test, y_pred=prediction))"
   ]
  },
  {
   "cell_type": "code",
   "execution_count": 41,
   "metadata": {},
   "outputs": [
    {
     "data": {
      "text/plain": [
       "array([[16,  0,  0],\n",
       "       [ 9,  4,  9],\n",
       "       [ 0,  0, 22]], dtype=int64)"
      ]
     },
     "execution_count": 41,
     "metadata": {},
     "output_type": "execute_result"
    }
   ],
   "source": [
    "from sklearn import metrics\n",
    "cf=metrics.confusion_matrix(Y_test,prediction)\n",
    "cf"
   ]
  },
  {
   "cell_type": "markdown",
   "metadata": {},
   "source": [
    "- **metrics.precision_score(...)**→ Computes the precision for each class.\n",
    "- **Y_test** → Actual labels.\n",
    "- **prediction**→ Model's predicted labels.\n",
    "- **average=None**→ Returns precision for each class separately instead of an overall score."
   ]
  },
  {
   "cell_type": "code",
   "execution_count": 43,
   "metadata": {},
   "outputs": [
    {
     "name": "stdout",
     "output_type": "stream",
     "text": [
      "Precision [0.64       1.         0.70967742]\n"
     ]
    }
   ],
   "source": [
    "print(\"Precision\",metrics.precision_score(Y_test,prediction,average=None))"
   ]
  },
  {
   "cell_type": "code",
   "execution_count": 44,
   "metadata": {},
   "outputs": [
    {
     "name": "stdout",
     "output_type": "stream",
     "text": [
      "Recall [1.         0.18181818 1.        ]\n"
     ]
    }
   ],
   "source": [
    "print(\"Recall\",metrics.recall_score(Y_test,prediction,average=None))"
   ]
  },
  {
   "cell_type": "code",
   "execution_count": 88,
   "metadata": {
    "colab": {
     "base_uri": "https://localhost:8080/",
     "height": 1000
    },
    "id": "JU8UGzrqhMSU",
    "outputId": "c5b8931f-7c3e-4479-86f3-ef24d2ff3ad9"
   },
   "outputs": [
    {
     "data": {
      "image/png": "[encoded data removed]",
      "text/plain": [
       "<Figure size 640x480 with 1 Axes>"
      ]
     },
     "metadata": {},
     "output_type": "display_data"
    }
   ],
   "source": [
    "from sklearn.tree import plot_tree\n",
    "a = plot_tree(clf, feature_names=X.columns.tolist(), fontsize=7, filled=True)\n",
    "plt.show()"
   ]
  },
  {
   "cell_type": "code",
   "execution_count": 48,
   "metadata": {},
   "outputs": [
    {
     "name": "stdout",
     "output_type": "stream",
     "text": [
      "Feature importances:\n",
      "Feature 0: 0.0\n",
      "Feature 1: 0.18545650514986003\n",
      "Feature 2: 0.81454349485014\n"
     ]
    }
   ],
   "source": [
    "feature_importances = clf.feature_importances_\n",
    "\n",
    "# Now, feature_importances contains the importance of each feature\n",
    "# You can print or analyze this array to understand which features contribute most to the decision making\n",
    "print(\"Feature importances:\")\n",
    "for i, importance in enumerate(feature_importances):\n",
    "    print(f\"Feature {i}: {importance}\")"
   ]
  }
 ],
 "metadata": {
  "colab": {
   "provenance": []
  },
  "kernelspec": {
   "display_name": "Python [conda env:base] *",
   "language": "python",
   "name": "conda-base-py"
  },
  "language_info": {
   "codemirror_mode": {
    "name": "ipython",
    "version": 3
   },
   "file_extension": ".py",
   "mimetype": "text/x-python",
   "name": "python",
   "nbconvert_exporter": "python",
   "pygments_lexer": "ipython3",
   "version": "3.11.4"
  }
 },
 "nbformat": 4,
 "nbformat_minor": 4
}
