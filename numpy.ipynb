{
 "cells": [
  {
   "cell_type": "markdown",
   "id": "42b49353-879d-48d2-b300-835d2dcc1cb5",
   "metadata": {},
   "source": [
    "## Numpy ##\n",
    "1. NumPy is a Python library used for working with arrays\n",
    "\n",
    "2. It also has functions for working in domain of linear algebra and matrices.\n",
    "\n",
    "3. NumPy was created in 2005 by Travis Oliphant. It is an open source project and you can use it freely.\n",
    "\n",
    "4. NumPy stands for Numerical Python"
   ]
  },
  {
   "cell_type": "markdown",
   "id": "bbeef503-7687-4975-baf6-96b922c7befa",
   "metadata": {},
   "source": [
    "## Why Use NumPy? ##\n",
    "\n",
    "- In Python we have lists that serve the purpose of arrays, but they are slow to process.\n",
    "\n",
    "- NumPy aims to provide **an array object that is up to 50x faster** than traditional Python lists.\n",
    "\n",
    "- **The array object in NumPy is called ndarray**, it provides a lot of supporting functions that make working with ndarray very easy."
   ]
  },
  {
   "cell_type": "code",
   "execution_count": 1,
   "id": "660b92ac-df67-4c66-ab37-7f2a5fd251e3",
   "metadata": {},
   "outputs": [],
   "source": [
    "import numpy as np"
   ]
  },
  {
   "cell_type": "code",
   "execution_count": 2,
   "id": "b4a4bdf1-7f19-4e81-a00b-8d593e61804f",
   "metadata": {},
   "outputs": [
    {
     "data": {
      "text/plain": [
       "'1.24.3'"
      ]
     },
     "execution_count": 2,
     "metadata": {},
     "output_type": "execute_result"
    }
   ],
   "source": [
    "np.__version__"
   ]
  },
  {
   "cell_type": "markdown",
   "id": "0e1f464b-1451-4a4d-8721-eb4f334d7490",
   "metadata": {},
   "source": [
    "**The array object in Numpy is called ndarray**"
   ]
  },
  {
   "cell_type": "markdown",
   "id": "1c2cd998-140d-4b63-b6e1-08cee25b9348",
   "metadata": {},
   "source": [
    "We can create a NumPy **ndarray** object using the  **array()** function."
   ]
  },
  {
   "cell_type": "markdown",
   "id": "0c92b4cd-44ea-455a-8256-1e00d03e81aa",
   "metadata": {},
   "source": [
    "## Dimensions in Arrays\n",
    "1. A dimension in arrays is **one level of array depth**(nested arrays)\n",
    "2. dimensions refer to the **number of axes or directions along which data is organized** in an array.\n",
    "3. nested array: are arrays that have arrays as their elements."
   ]
  },
  {
   "cell_type": "markdown",
   "id": "4e9e3cd4-e14e-4f75-84e5-5c4ccdef01d4",
   "metadata": {},
   "source": [
    "This creates the array we can see on the right here:\n",
    "\n",
    "![](http://jalammar.github.io/images/numpy/create-numpy-array-1.png)"
   ]
  },
  {
   "cell_type": "code",
   "execution_count": 3,
   "id": "e7a8c0c0-c62c-408f-8671-8188f57c5b39",
   "metadata": {},
   "outputs": [
    {
     "data": {
      "text/plain": [
       "array([1, 2, 3])"
      ]
     },
     "execution_count": 3,
     "metadata": {},
     "output_type": "execute_result"
    }
   ],
   "source": [
    "array1=np.array([1,2,3])\n",
    "array1"
   ]
  },
  {
   "cell_type": "code",
   "execution_count": 4,
   "id": "eb954636-5fe6-4f73-af3e-3d9eec2a8985",
   "metadata": {},
   "outputs": [
    {
     "data": {
      "text/plain": [
       "numpy.ndarray"
      ]
     },
     "execution_count": 4,
     "metadata": {},
     "output_type": "execute_result"
    }
   ],
   "source": [
    "type(array1)"
   ]
  },
  {
   "cell_type": "markdown",
   "id": "ba283ced-5a10-4809-8e88-ee988a7424b3",
   "metadata": {},
   "source": [
    "**To create a `numpy` array with more dimensions, we can pass nested lists, like this:**\n",
    "\n",
    "![](http://jalammar.github.io/images/numpy/numpy-array-create-2d.png)"
   ]
  },
  {
   "cell_type": "code",
   "execution_count": 5,
   "id": "3ef74211-b3a8-4ca0-b82a-bfc67a308528",
   "metadata": {},
   "outputs": [
    {
     "data": {
      "text/plain": [
       "array([[1, 2],\n",
       "       [3, 4]])"
      ]
     },
     "execution_count": 5,
     "metadata": {},
     "output_type": "execute_result"
    }
   ],
   "source": [
    "''' An array that has 1-D arrays as its elements is called 2-D Array'''\n",
    "array2=np.array([[1,2],\n",
    "                 [3,4]])\n",
    "array2"
   ]
  },
  {
   "cell_type": "markdown",
   "id": "8a0b75b8-796f-4600-b1be-00417ebb63ec",
   "metadata": {},
   "source": [
    "To create a `numpy` array with more dimensions, we can pass nested lists, like this:\n",
    "\n",
    "![](http://jalammar.github.io/images/numpy/numpy-3d-array.png)"
   ]
  },
  {
   "cell_type": "code",
   "execution_count": 6,
   "id": "5acab824-68e8-4ec6-85c0-715dd08a18eb",
   "metadata": {},
   "outputs": [
    {
     "data": {
      "text/plain": [
       "array([[[1, 2],\n",
       "        [3, 4]],\n",
       "\n",
       "       [[5, 6],\n",
       "        [7, 8]]])"
      ]
     },
     "execution_count": 6,
     "metadata": {},
     "output_type": "execute_result"
    }
   ],
   "source": [
    "array3d=np.array([[\n",
    "                    [1,2],\n",
    "                    [3,4]\n",
    "                    ],\n",
    "                  [\n",
    "                      [5,6],\n",
    "                      [7,8]\n",
    "                  ]\n",
    "                 ])\n",
    "array3d"
   ]
  },
  {
   "cell_type": "code",
   "execution_count": 7,
   "id": "180ac613-5e1d-41b9-9a71-dfcb881038e2",
   "metadata": {},
   "outputs": [
    {
     "data": {
      "text/plain": [
       "array([[[ 1,  2,  3],\n",
       "        [ 4,  5,  6],\n",
       "        [ 7,  8,  9]],\n",
       "\n",
       "       [[10, 11, 12],\n",
       "        [13, 14, 15],\n",
       "        [16, 17, 18]]])"
      ]
     },
     "execution_count": 7,
     "metadata": {},
     "output_type": "execute_result"
    }
   ],
   "source": [
    "''' An array that has 2-D arrays(matrices) as its elements \n",
    "is called 3d array'''\n",
    "array3ex=np.array([[[1,2,3],\n",
    "                    [4,5,6],\n",
    "                    [7,8,9]],\n",
    "                   [[10,11,12],\n",
    "                    [13,14,15],\n",
    "                    [16,17,18]]\n",
    "                  ])\n",
    "array3ex"
   ]
  },
  {
   "cell_type": "code",
   "execution_count": 8,
   "id": "675587bb-67fa-49d0-a7a4-f0edc34efa16",
   "metadata": {},
   "outputs": [],
   "source": [
    "''' A 4D array has 4 dimensions:(a,b,c,d)'''\n",
    "array4d=np.array([\n",
    "                [\n",
    "                    [\n",
    "                        [1,2],\n",
    "                        [3,4],\n",
    "                        [5,6]\n",
    "                    ],\n",
    "                    [\n",
    "                        [7,8],\n",
    "                        [9,10],\n",
    "                        [11,12]\n",
    "                    ],\n",
    "                    [\n",
    "                        [13,14],\n",
    "                        [15,16],\n",
    "                        [17,18]\n",
    "                    ]\n",
    "                ],\n",
    "                [\n",
    "                    [\n",
    "                        [19,20],\n",
    "                        [21,22],\n",
    "                        [23,24]\n",
    "                    ],\n",
    "                    [\n",
    "                        [25,26],\n",
    "                        [27,28],\n",
    "                        [29,30]\n",
    "                    ],\n",
    "                    [\n",
    "                        [31,32],\n",
    "                        [33,34],\n",
    "                        [35,36]\n",
    "                    ]\n",
    "                ]\n",
    "])"
   ]
  },
  {
   "cell_type": "code",
   "execution_count": 9,
   "id": "31c0ee55-de06-43b0-912c-60167327300f",
   "metadata": {},
   "outputs": [
    {
     "data": {
      "text/plain": [
       "array([[[[ 1,  2],\n",
       "         [ 3,  4],\n",
       "         [ 5,  6]],\n",
       "\n",
       "        [[ 7,  8],\n",
       "         [ 9, 10],\n",
       "         [11, 12]],\n",
       "\n",
       "        [[13, 14],\n",
       "         [15, 16],\n",
       "         [17, 18]]],\n",
       "\n",
       "\n",
       "       [[[19, 20],\n",
       "         [21, 22],\n",
       "         [23, 24]],\n",
       "\n",
       "        [[25, 26],\n",
       "         [27, 28],\n",
       "         [29, 30]],\n",
       "\n",
       "        [[31, 32],\n",
       "         [33, 34],\n",
       "         [35, 36]]]])"
      ]
     },
     "execution_count": 9,
     "metadata": {},
     "output_type": "execute_result"
    }
   ],
   "source": [
    "array4d"
   ]
  },
  {
   "cell_type": "markdown",
   "id": "22aabf4b-c8cc-41bb-b4ef-dda8b4e20a6a",
   "metadata": {},
   "source": [
    "**To create an ndarray, we can pass a list, tuple or any array-like object into the array() method, and it will be converted into an ndarray:**"
   ]
  },
  {
   "cell_type": "code",
   "execution_count": 10,
   "id": "10b8008e-8182-42d4-8075-bf1d3d4e9faa",
   "metadata": {},
   "outputs": [
    {
     "data": {
      "text/plain": [
       "array([12, 13, 14])"
      ]
     },
     "execution_count": 10,
     "metadata": {},
     "output_type": "execute_result"
    }
   ],
   "source": [
    "arrayex5=np.array((12,13,14))\n",
    "arrayex5"
   ]
  },
  {
   "cell_type": "markdown",
   "id": "ea047c29-63c6-41dc-b18a-0b12b98acb9a",
   "metadata": {},
   "source": [
    "## ndim attribute\n",
    "- ndim attribute returns an integer that tells how many dimensions the array has"
   ]
  },
  {
   "cell_type": "code",
   "execution_count": 11,
   "id": "ae0f1e9f-5f65-4e1a-b5a8-397b1b550868",
   "metadata": {},
   "outputs": [
    {
     "name": "stdout",
     "output_type": "stream",
     "text": [
      "1\n"
     ]
    }
   ],
   "source": [
    "print(array1.ndim)"
   ]
  },
  {
   "cell_type": "code",
   "execution_count": 12,
   "id": "08df88b9-e47f-4752-9234-2e6ffee7a571",
   "metadata": {},
   "outputs": [
    {
     "name": "stdout",
     "output_type": "stream",
     "text": [
      "2\n"
     ]
    }
   ],
   "source": [
    "print(array2.ndim)"
   ]
  },
  {
   "cell_type": "code",
   "execution_count": 13,
   "id": "ced9f42a-fa53-4f06-87c8-f40579897bcd",
   "metadata": {},
   "outputs": [
    {
     "name": "stdout",
     "output_type": "stream",
     "text": [
      "3\n"
     ]
    }
   ],
   "source": [
    "print(array3d.ndim)"
   ]
  },
  {
   "cell_type": "code",
   "execution_count": 14,
   "id": "aa45f22c-c510-4788-9da5-75237bf555ca",
   "metadata": {},
   "outputs": [
    {
     "name": "stdout",
     "output_type": "stream",
     "text": [
      "3\n"
     ]
    }
   ],
   "source": [
    "print(array3ex.ndim)"
   ]
  },
  {
   "cell_type": "code",
   "execution_count": 15,
   "id": "f6b62b75-767c-48af-94d6-861f3a23fd25",
   "metadata": {},
   "outputs": [
    {
     "name": "stdout",
     "output_type": "stream",
     "text": [
      "4\n"
     ]
    }
   ],
   "source": [
    "print(array4d.ndim)"
   ]
  },
  {
   "cell_type": "code",
   "execution_count": 16,
   "id": "43494a7c-cf76-4d4f-a641-c531c64059fc",
   "metadata": {},
   "outputs": [
    {
     "name": "stdout",
     "output_type": "stream",
     "text": [
      "1\n"
     ]
    }
   ],
   "source": [
    "print(arrayex5.ndim)"
   ]
  },
  {
   "cell_type": "markdown",
   "id": "2cba2b35-e284-48ad-82e3-5756ea2535e8",
   "metadata": {},
   "source": [
    "## ndmin argument\n",
    "- defines the number of dimensions"
   ]
  },
  {
   "cell_type": "code",
   "execution_count": 17,
   "id": "7341d9a9-dc12-4db5-b600-2846ed1d2e7f",
   "metadata": {},
   "outputs": [],
   "source": [
    "array6=np.array([1,2,3,4,5], ndmin=2)"
   ]
  },
  {
   "cell_type": "code",
   "execution_count": 18,
   "id": "ee8aef34-c9bd-4549-bec7-c1ad1698b252",
   "metadata": {},
   "outputs": [
    {
     "data": {
      "text/plain": [
       "array([[1, 2, 3, 4, 5]])"
      ]
     },
     "execution_count": 18,
     "metadata": {},
     "output_type": "execute_result"
    }
   ],
   "source": [
    "array6"
   ]
  },
  {
   "cell_type": "code",
   "execution_count": 19,
   "id": "b1628361-41a5-4f5b-81b8-3e4557d63606",
   "metadata": {},
   "outputs": [
    {
     "name": "stdout",
     "output_type": "stream",
     "text": [
      "2\n"
     ]
    }
   ],
   "source": [
    "print(array6.ndim)"
   ]
  },
  {
   "cell_type": "markdown",
   "id": "5cbc1b65-558a-4e03-845b-06139a93df0a",
   "metadata": {},
   "source": [
    "## shape attribute\n",
    "- tells the number of elements in each dimension"
   ]
  },
  {
   "cell_type": "code",
   "execution_count": 20,
   "id": "e4f45fb3-5a2f-4757-b038-148775008064",
   "metadata": {},
   "outputs": [
    {
     "data": {
      "text/plain": [
       "(1, 5)"
      ]
     },
     "execution_count": 20,
     "metadata": {},
     "output_type": "execute_result"
    }
   ],
   "source": [
    "array6.shape"
   ]
  },
  {
   "cell_type": "code",
   "execution_count": 21,
   "id": "fb7bf56a-2955-48d8-bf40-c9f6cb26f0de",
   "metadata": {},
   "outputs": [
    {
     "data": {
      "text/plain": [
       "(3,)"
      ]
     },
     "execution_count": 21,
     "metadata": {},
     "output_type": "execute_result"
    }
   ],
   "source": [
    "array1.shape"
   ]
  },
  {
   "cell_type": "code",
   "execution_count": 22,
   "id": "7ba3bc70-219b-47b1-878a-b995e370bce8",
   "metadata": {},
   "outputs": [
    {
     "data": {
      "text/plain": [
       "(2, 2)"
      ]
     },
     "execution_count": 22,
     "metadata": {},
     "output_type": "execute_result"
    }
   ],
   "source": [
    "array2.shape"
   ]
  },
  {
   "cell_type": "code",
   "execution_count": 23,
   "id": "cc84cdae-c0ef-47ed-9fb0-f4579f573b20",
   "metadata": {},
   "outputs": [
    {
     "data": {
      "text/plain": [
       "(2, 2, 2)"
      ]
     },
     "execution_count": 23,
     "metadata": {},
     "output_type": "execute_result"
    }
   ],
   "source": [
    "array3d.shape"
   ]
  },
  {
   "cell_type": "code",
   "execution_count": 24,
   "id": "f9d4fd8c-4545-4e60-be91-63113778da36",
   "metadata": {},
   "outputs": [
    {
     "data": {
      "text/plain": [
       "(2, 3, 3)"
      ]
     },
     "execution_count": 24,
     "metadata": {},
     "output_type": "execute_result"
    }
   ],
   "source": [
    "array3ex.shape"
   ]
  },
  {
   "cell_type": "code",
   "execution_count": 25,
   "id": "f7ea5dbc-7952-483d-ae38-b2acb44c2187",
   "metadata": {},
   "outputs": [
    {
     "data": {
      "text/plain": [
       "(2, 3, 3, 2)"
      ]
     },
     "execution_count": 25,
     "metadata": {},
     "output_type": "execute_result"
    }
   ],
   "source": [
    "array4d.shape"
   ]
  },
  {
   "cell_type": "markdown",
   "id": "d5bccb7c-0a9d-4c99-814f-357b3f3384ed",
   "metadata": {},
   "source": [
    "- first dimension(2) there are 2 elements along this  axis.(outer group having 2 sub arrays)\n",
    "- each of the 2 elements from the first dimension contains 3 sub arrays\n",
    "- each of these 3 sub arrays from the second dimension contains 3 more elements \n",
    "- each of the 3 elements from the third dimension contains 2 elements."
   ]
  },
  {
   "cell_type": "code",
   "execution_count": 26,
   "id": "2a991ed0-0df7-4af1-b392-17faa9b5f3fd",
   "metadata": {},
   "outputs": [
    {
     "data": {
      "text/plain": [
       "(3,)"
      ]
     },
     "execution_count": 26,
     "metadata": {},
     "output_type": "execute_result"
    }
   ],
   "source": [
    "arrayex5.shape"
   ]
  },
  {
   "cell_type": "markdown",
   "id": "184ba14e-b3dd-4bd7-bbce-a5d96648a5a4",
   "metadata": {},
   "source": [
    "## Access Array Elements\n",
    "- array indexing is the same as accessing an array element\n",
    "- the indexes in NumPy arrays start with 0, meaning that the first element has index0, and the second has the index 1 etc"
   ]
  },
  {
   "cell_type": "code",
   "execution_count": 27,
   "id": "416ba103-f264-4914-b05b-4379953cf30d",
   "metadata": {},
   "outputs": [
    {
     "data": {
      "text/plain": [
       "array([[1, 2],\n",
       "       [3, 4]])"
      ]
     },
     "execution_count": 27,
     "metadata": {},
     "output_type": "execute_result"
    }
   ],
   "source": [
    "array2"
   ]
  },
  {
   "cell_type": "code",
   "execution_count": 28,
   "id": "93694f6b-f979-4d5c-8ef6-a7e6e130c325",
   "metadata": {},
   "outputs": [
    {
     "data": {
      "text/plain": [
       "2"
      ]
     },
     "execution_count": 28,
     "metadata": {},
     "output_type": "execute_result"
    }
   ],
   "source": [
    "array2[0][1]"
   ]
  },
  {
   "cell_type": "code",
   "execution_count": 29,
   "id": "fc596f2c-30f8-4378-968f-8db3da86b701",
   "metadata": {},
   "outputs": [],
   "source": [
    "array7=np.array([[1,2],[3.3,4]])"
   ]
  },
  {
   "cell_type": "code",
   "execution_count": 30,
   "id": "fc2fc757-3760-4759-9ea0-bf02d670d7b3",
   "metadata": {},
   "outputs": [
    {
     "data": {
      "text/plain": [
       "array([[1. , 2. ],\n",
       "       [3.3, 4. ]])"
      ]
     },
     "execution_count": 30,
     "metadata": {},
     "output_type": "execute_result"
    }
   ],
   "source": [
    "array7"
   ]
  },
  {
   "cell_type": "markdown",
   "id": "6db42757-216d-447c-9265-939151e69987",
   "metadata": {},
   "source": [
    "**The array will be promoted to float64 because 3.3 is a float, and making the whole array an integer would cause a loss of information.**"
   ]
  },
  {
   "cell_type": "markdown",
   "id": "2a3790b4-6118-4c01-91bb-d0ea55ef4a6e",
   "metadata": {},
   "source": [
    "a numpy array can contain strings or characters but it handles them differently"
   ]
  },
  {
   "cell_type": "code",
   "execution_count": 31,
   "id": "97abd3c3-1cf8-4234-a545-e7eea3cdb713",
   "metadata": {},
   "outputs": [
    {
     "data": {
      "text/plain": [
       "array(['a', 'b', 'c'], dtype='<U1')"
      ]
     },
     "execution_count": 31,
     "metadata": {},
     "output_type": "execute_result"
    }
   ],
   "source": [
    "char_arr=np.array(['a','b','c'])\n",
    "char_arr"
   ]
  },
  {
   "cell_type": "markdown",
   "id": "b8e42a0c-59cd-4daa-a5e7-5d247817fc5b",
   "metadata": {},
   "source": [
    "**array(['a', 'b', 'c'], dtype='<U1') U stands for unicode string (universal character encoding system) of 1 character per string**"
   ]
  },
  {
   "cell_type": "code",
   "execution_count": 32,
   "id": "18d66e3e-f4dd-48e0-8ec3-38bb273d7771",
   "metadata": {},
   "outputs": [
    {
     "data": {
      "text/plain": [
       "array(['supervised', 'unsupervised', 'semi-supervised', 'reinforcment'],\n",
       "      dtype='<U15')"
      ]
     },
     "execution_count": 32,
     "metadata": {},
     "output_type": "execute_result"
    }
   ],
   "source": [
    "ch_arr2=np.array([\"Supervised\",\"unSupervised\",\"sEMi-supervised\",\"reinforcment\"])\n",
    "low_arr=np.char.lower(ch_arr2)\n",
    "low_arr"
   ]
  },
  {
   "cell_type": "code",
   "execution_count": 33,
   "id": "8000a238-09a4-49a0-966e-51f0c3270daf",
   "metadata": {},
   "outputs": [
    {
     "data": {
      "text/plain": [
       "array(['supervised', 'unsupervised', 'semi supervised', 'reinforcment'],\n",
       "      dtype='<U15')"
      ]
     },
     "execution_count": 33,
     "metadata": {},
     "output_type": "execute_result"
    }
   ],
   "source": [
    "cleaned_arr=np.char.replace(low_arr,\"-\",\" \")\n",
    "cleaned_arr"
   ]
  },
  {
   "cell_type": "markdown",
   "id": "ff21dfdf-202f-4325-8aeb-df5d4383515e",
   "metadata": {},
   "source": [
    "## dtype\n",
    "- returns the data type of the array "
   ]
  },
  {
   "cell_type": "code",
   "execution_count": 34,
   "id": "e8574e30-cbbe-4846-aede-8e80560c8997",
   "metadata": {},
   "outputs": [
    {
     "data": {
      "text/plain": [
       "dtype('int32')"
      ]
     },
     "execution_count": 34,
     "metadata": {},
     "output_type": "execute_result"
    }
   ],
   "source": [
    "array1.dtype"
   ]
  },
  {
   "cell_type": "code",
   "execution_count": 35,
   "id": "0958a047-7cbc-4f83-8b8a-ab9258db87e9",
   "metadata": {},
   "outputs": [
    {
     "data": {
      "text/plain": [
       "dtype('int32')"
      ]
     },
     "execution_count": 35,
     "metadata": {},
     "output_type": "execute_result"
    }
   ],
   "source": [
    "array3d.dtype"
   ]
  },
  {
   "cell_type": "code",
   "execution_count": 36,
   "id": "3e7b1860-c2f8-48eb-b812-a0f36ff09da9",
   "metadata": {},
   "outputs": [
    {
     "data": {
      "text/plain": [
       "dtype('float64')"
      ]
     },
     "execution_count": 36,
     "metadata": {},
     "output_type": "execute_result"
    }
   ],
   "source": [
    "array7.dtype"
   ]
  },
  {
   "cell_type": "code",
   "execution_count": 37,
   "id": "22f831a0-7a6a-4452-9ed0-8ca6c094009f",
   "metadata": {},
   "outputs": [
    {
     "data": {
      "text/plain": [
       "dtype('<U1')"
      ]
     },
     "execution_count": 37,
     "metadata": {},
     "output_type": "execute_result"
    }
   ],
   "source": [
    "char_arr.dtype"
   ]
  },
  {
   "cell_type": "code",
   "execution_count": 38,
   "id": "e4bae91e-d091-472e-979a-e2ba437cfdb4",
   "metadata": {},
   "outputs": [
    {
     "data": {
      "text/plain": [
       "dtype('<U15')"
      ]
     },
     "execution_count": 38,
     "metadata": {},
     "output_type": "execute_result"
    }
   ],
   "source": [
    "low_arr.dtype"
   ]
  },
  {
   "cell_type": "markdown",
   "id": "66901466-048a-487d-8ffe-84e823cc7f4e",
   "metadata": {},
   "source": [
    "***dtype='S': This specifies that the data type of the array elements is a byte string. The default byte length is 1, meaning each integer is converted into its byte representation.***"
   ]
  },
  {
   "cell_type": "code",
   "execution_count": 86,
   "id": "a71f065b-ea2a-4279-a7e5-0d701eb4630f",
   "metadata": {},
   "outputs": [],
   "source": [
    "array8=np.array([1,2,3,4,5],dtype='S')"
   ]
  },
  {
   "cell_type": "code",
   "execution_count": 87,
   "id": "11fbff26-1931-4931-aec8-fb6ce3ea6482",
   "metadata": {},
   "outputs": [
    {
     "data": {
      "text/plain": [
       "array([b'1', b'2', b'3', b'4', b'5'], dtype='|S1')"
      ]
     },
     "execution_count": 87,
     "metadata": {},
     "output_type": "execute_result"
    }
   ],
   "source": [
    "array8"
   ]
  },
  {
   "cell_type": "code",
   "execution_count": 88,
   "id": "11bb23cb-0d68-47bb-a2a1-541a8bff3280",
   "metadata": {},
   "outputs": [
    {
     "data": {
      "text/plain": [
       "array([[1, 2],\n",
       "       [3, 4]])"
      ]
     },
     "execution_count": 88,
     "metadata": {},
     "output_type": "execute_result"
    }
   ],
   "source": [
    "array2"
   ]
  },
  {
   "cell_type": "markdown",
   "id": "f27fb17d-29a0-4b2e-8bc5-3b23fa7baa42",
   "metadata": {},
   "source": [
    "## astype()\n",
    "- Changes data type from int to float by using 'f' as parameter value:"
   ]
  },
  {
   "cell_type": "code",
   "execution_count": 42,
   "id": "bec29d01-9bec-4da6-bb1c-9b4348aaae5b",
   "metadata": {},
   "outputs": [
    {
     "data": {
      "text/plain": [
       "array([[1., 2.],\n",
       "       [3., 4.]], dtype=float32)"
      ]
     },
     "execution_count": 42,
     "metadata": {},
     "output_type": "execute_result"
    }
   ],
   "source": [
    "array2conv=array2.astype('f')\n",
    "array2conv"
   ]
  },
  {
   "cell_type": "code",
   "execution_count": 43,
   "id": "65b8d274-3694-49f4-bd46-73e00f48fb3b",
   "metadata": {},
   "outputs": [
    {
     "data": {
      "text/plain": [
       "array([[1, 2],\n",
       "       [3, 4]], dtype=int32)"
      ]
     },
     "execution_count": 43,
     "metadata": {},
     "output_type": "execute_result"
    }
   ],
   "source": [
    "array7conv=array7.astype('i')\n",
    "array7conv"
   ]
  },
  {
   "cell_type": "code",
   "execution_count": 44,
   "id": "934317ef-167b-4106-af9d-30145f596754",
   "metadata": {},
   "outputs": [
    {
     "data": {
      "text/plain": [
       "array(['a', 'b', 'c'], dtype='<U1')"
      ]
     },
     "execution_count": 44,
     "metadata": {},
     "output_type": "execute_result"
    }
   ],
   "source": [
    "char_arr"
   ]
  },
  {
   "cell_type": "code",
   "execution_count": 45,
   "id": "9bda00a8-bf4b-466e-8ef3-968357b2e301",
   "metadata": {},
   "outputs": [
    {
     "name": "stdout",
     "output_type": "stream",
     "text": [
      "[97, 98, 99]\n"
     ]
    }
   ],
   "source": [
    "#char_conv=char_arr.astype('i')\n",
    "#char_conv\n",
    "\n",
    "char_arr = ['a', 'b', 'c']\n",
    "char_conv = [ord(char) for char in char_arr]\n",
    "print(char_conv)\n"
   ]
  },
  {
   "cell_type": "markdown",
   "id": "087555cb-9cc2-479b-9449-5365694255b8",
   "metadata": {},
   "source": [
    "**Python numpy.ones() function returns a new array of given shape and data type, where the element’s value is set to 1.**"
   ]
  },
  {
   "cell_type": "markdown",
   "id": "8e8d824f-f89d-4278-9461-e7319ae08ce4",
   "metadata": {},
   "source": [
    "There are often cases when we want numpy to initialize the values of the array for us. numpy provides methods like `ones()`, `zeros()`, and `random.random()` for these cases. We just pass them the number of elements we want it to generate:\n",
    "\n",
    "![](http://jalammar.github.io/images/numpy/create-numpy-array-ones-zeros-random.png)"
   ]
  },
  {
   "cell_type": "code",
   "execution_count": 46,
   "id": "748a7659-d169-4007-b21a-a1337983b0fa",
   "metadata": {},
   "outputs": [
    {
     "data": {
      "text/plain": [
       "array([[1, 1],\n",
       "       [1, 1]])"
      ]
     },
     "execution_count": 46,
     "metadata": {},
     "output_type": "execute_result"
    }
   ],
   "source": [
    "numone=np.ones((2,2),dtype=int)\n",
    "numone"
   ]
  },
  {
   "cell_type": "code",
   "execution_count": 47,
   "id": "861f3617-416e-4d30-9348-ebf2a76fba8a",
   "metadata": {},
   "outputs": [
    {
     "data": {
      "text/plain": [
       "array([[1., 1.],\n",
       "       [1., 1.],\n",
       "       [1., 1.]])"
      ]
     },
     "execution_count": 47,
     "metadata": {},
     "output_type": "execute_result"
    }
   ],
   "source": [
    "numsone=np.ones((3,2))\n",
    "numsone"
   ]
  },
  {
   "cell_type": "code",
   "execution_count": 48,
   "id": "6323a72a-c1ed-409c-82c5-40fefcef7320",
   "metadata": {},
   "outputs": [],
   "source": [
    "numzero=np.zeros((3,2))"
   ]
  },
  {
   "cell_type": "code",
   "execution_count": 49,
   "id": "76c59d89-377b-4a47-ab42-4810176c8173",
   "metadata": {},
   "outputs": [
    {
     "data": {
      "text/plain": [
       "array([[0., 0.],\n",
       "       [0., 0.],\n",
       "       [0., 0.]])"
      ]
     },
     "execution_count": 49,
     "metadata": {},
     "output_type": "execute_result"
    }
   ],
   "source": [
    "numzero"
   ]
  },
  {
   "cell_type": "code",
   "execution_count": 50,
   "id": "094216e5-f03a-4481-b4c5-feaa6574edbb",
   "metadata": {},
   "outputs": [
    {
     "data": {
      "text/plain": [
       "array([[0, 0],\n",
       "       [0, 0],\n",
       "       [0, 0]])"
      ]
     },
     "execution_count": 50,
     "metadata": {},
     "output_type": "execute_result"
    }
   ],
   "source": [
    "numzeros=np.zeros((3,2),dtype=int)\n",
    "numzeros"
   ]
  },
  {
   "cell_type": "code",
   "execution_count": 93,
   "id": "db3bee34",
   "metadata": {},
   "outputs": [
    {
     "data": {
      "text/plain": [
       "array([[[1., 1.],\n",
       "        [1., 1.],\n",
       "        [1., 1.]],\n",
       "\n",
       "       [[1., 1.],\n",
       "        [1., 1.],\n",
       "        [1., 1.]],\n",
       "\n",
       "       [[1., 1.],\n",
       "        [1., 1.],\n",
       "        [1., 1.]],\n",
       "\n",
       "       [[1., 1.],\n",
       "        [1., 1.],\n",
       "        [1., 1.]]])"
      ]
     },
     "execution_count": 93,
     "metadata": {},
     "output_type": "execute_result"
    }
   ],
   "source": [
    "dimones=np.ones((4,3,2))\n",
    "dimones"
   ]
  },
  {
   "cell_type": "markdown",
   "id": "d680a0ce-ec2d-4670-8bf4-74679c889cde",
   "metadata": {},
   "source": [
    "We can also use these methods to produce multi-dimensional arrays, as long as we pass them a tuple describing the dimensions of the matrix we want to create:\n",
    "\n",
    "![](http://jalammar.github.io/images/numpy/numpy-matrix-ones-zeros-random.png)\n",
    "\n",
    "![](http://jalammar.github.io/images/numpy/numpy-3d-array-creation.png)"
   ]
  },
  {
   "cell_type": "code",
   "execution_count": 51,
   "id": "cae82598-b95c-4458-a0b0-4f1b8ad47b51",
   "metadata": {},
   "outputs": [],
   "source": [
    "dimones=np.ones((4,3,2))"
   ]
  },
  {
   "cell_type": "code",
   "execution_count": 52,
   "id": "14671e77-266d-41d0-9932-17f54162d061",
   "metadata": {},
   "outputs": [
    {
     "data": {
      "text/plain": [
       "3"
      ]
     },
     "execution_count": 52,
     "metadata": {},
     "output_type": "execute_result"
    }
   ],
   "source": [
    "dimones.ndim"
   ]
  },
  {
   "cell_type": "markdown",
   "id": "1006df88-91af-4911-9e26-040a6e7f2f03",
   "metadata": {},
   "source": [
    "## Operations"
   ]
  },
  {
   "cell_type": "code",
   "execution_count": 53,
   "id": "63df59ef-14bc-4621-8333-5aa7cdcd2b98",
   "metadata": {},
   "outputs": [
    {
     "name": "stdout",
     "output_type": "stream",
     "text": [
      "addition:\n",
      " [[ 6  8 10]\n",
      " [12 14 16]]\n"
     ]
    }
   ],
   "source": [
    "ar1=np.array([[1,2,3],[4,5,6]])\n",
    "ar2=np.array([[5,6,7],[8,9,10]])\n",
    "#addition\n",
    "addition=ar1+ar2\n",
    "print(\"addition:\\n\",addition)\n"
   ]
  },
  {
   "cell_type": "code",
   "execution_count": 94,
   "id": "5df3849c-5df3-4686-a5e6-84846938b339",
   "metadata": {},
   "outputs": [
    {
     "name": "stdout",
     "output_type": "stream",
     "text": [
      "subtraction:\n",
      " [[4 4 4]\n",
      " [4 4 4]]\n"
     ]
    }
   ],
   "source": [
    "subtraction=ar2-ar1\n",
    "print(\"subtraction:\\n\",subtraction)\n"
   ]
  },
  {
   "cell_type": "code",
   "execution_count": 55,
   "id": "07590ef2-8dc7-44cb-8d35-b97b8f4cdc9d",
   "metadata": {},
   "outputs": [
    {
     "name": "stdout",
     "output_type": "stream",
     "text": [
      "multiplication:\n",
      " [[ 5 12 21]\n",
      " [32 45 60]]\n"
     ]
    }
   ],
   "source": [
    "multiplication=ar1*ar2\n",
    "print(\"multiplication:\\n\",multiplication)\n"
   ]
  },
  {
   "cell_type": "code",
   "execution_count": 97,
   "id": "14f423c7-9a2c-48d4-8bb9-865a674aa4da",
   "metadata": {},
   "outputs": [
    {
     "name": "stdout",
     "output_type": "stream",
     "text": [
      "division:\n",
      "  [[0.2        0.33333333 0.42857143]\n",
      " [0.5        0.55555556 0.6       ]]\n"
     ]
    }
   ],
   "source": [
    "division=ar1/ar2\n",
    "print(\"division:\\n\", division)\n"
   ]
  },
  {
   "cell_type": "code",
   "execution_count": 57,
   "id": "1491a5fa-d1ff-4452-8f3e-7dd0f254c0b3",
   "metadata": {},
   "outputs": [
    {
     "name": "stdout",
     "output_type": "stream",
     "text": [
      "power:\n",
      " [[       1       64     2187]\n",
      " [   65536  1953125 60466176]]\n"
     ]
    }
   ],
   "source": [
    "power=np.power(ar1,ar2)\n",
    "print(\"power:\\n\",power)"
   ]
  },
  {
   "cell_type": "markdown",
   "id": "dc233aa9-1579-46c0-958a-1c57fbfa6c91",
   "metadata": {},
   "source": [
    "## broadcasting\n",
    "- Broadcasting is a powerful feature that allows NumPy to work with arrays of different shapes during arithmetic operations.\n"
   ]
  },
  {
   "cell_type": "code",
   "execution_count": 58,
   "id": "155abb44-b032-4bd0-90ef-349b52c74575",
   "metadata": {},
   "outputs": [
    {
     "data": {
      "text/plain": [
       "array([[11, 22, 25],\n",
       "       [14, 25, 28]])"
      ]
     },
     "execution_count": 58,
     "metadata": {},
     "output_type": "execute_result"
    }
   ],
   "source": [
    "array2d=np.array([[1,2,3],[4,5,6]])\n",
    "array1d=np.array([10,20,22])\n",
    "\n",
    "#add 1d array to 2d array\n",
    "result=array2d + array1d\n",
    "result"
   ]
  },
  {
   "cell_type": "markdown",
   "id": "ea055932-0fd9-49c5-92b6-8dfbea9973d3",
   "metadata": {},
   "source": [
    "The 1D array [10, 20, 22] is broadcast to match the shape of the 2D array. It is treated as if it were repeated for each row of the 2D array, allowing element-wise addition."
   ]
  },
  {
   "cell_type": "code",
   "execution_count": 101,
   "id": "7e266676-a7be-4c1c-836b-219348f378ed",
   "metadata": {},
   "outputs": [
    {
     "data": {
      "text/plain": [
       "array([[11, 22, 25],\n",
       "       [14, 25, 28]])"
      ]
     },
     "execution_count": 101,
     "metadata": {},
     "output_type": "execute_result"
    }
   ],
   "source": [
    "array2d=np.array([[1,2,3],[4,5,6]])\n",
    "array1d=np.array([10,20,22])\n",
    "\n",
    "#add 1d array to 2d array\n",
    "result=array1d + array2d\n",
    "result"
   ]
  },
  {
   "cell_type": "markdown",
   "id": "bdd46457-a3ca-4460-bae1-3fad98e8d836",
   "metadata": {},
   "source": [
    "If the shapes of the two arrays differ in the number of dimensions, NumPy pads the smaller shape with 1 on the left until the number of dimensions match.\n",
    "\n",
    "array1d\n",
    "(3,) → Pad with a leading 1 → Shape becomes \n",
    "array1d\n",
    "(1,3)\n",
    "array2d\n",
    "(2,3)\n",
    "Now the aligned shapes are:\n",
    "\n",
    "array1d\n",
    "(1,3)\n",
    "array2d\n",
    "(2,3)"
   ]
  },
  {
   "cell_type": "code",
   "execution_count": 102,
   "id": "b9329b59-d328-452e-adf5-b8b92d4a7e10",
   "metadata": {},
   "outputs": [
    {
     "data": {
      "text/plain": [
       "(3,)"
      ]
     },
     "execution_count": 102,
     "metadata": {},
     "output_type": "execute_result"
    }
   ],
   "source": [
    "array1d.shape\n"
   ]
  },
  {
   "cell_type": "code",
   "execution_count": 61,
   "id": "701ee519-9dbb-4081-b72a-845069c2c55a",
   "metadata": {},
   "outputs": [
    {
     "data": {
      "text/plain": [
       "(2, 3)"
      ]
     },
     "execution_count": 61,
     "metadata": {},
     "output_type": "execute_result"
    }
   ],
   "source": [
    "array2d.shape"
   ]
  },
  {
   "cell_type": "markdown",
   "id": "83e14d71-79d6-43f0-a74f-6d1ae80ce55d",
   "metadata": {},
   "source": [
    "**Syntax**\n",
    "\n",
    "import numpy as np\n",
    "\n",
    "**np.arange(start, stop, step, dtype=None)**\n",
    "\n",
    "**Arguments**\n",
    "\n",
    "1.start: The starting value of the sequence (inclusive). If omitted, it defaults to 0.\n",
    "\n",
    "2.stop: The end value of the sequence (exclusive).\n",
    "\n",
    "3.step: The spacing between values in the sequence (default is 1). It can be positive or negative.\n",
    "\n",
    "4.dtype: Optional data type for the elements of the array (default is float)."
   ]
  },
  {
   "cell_type": "code",
   "execution_count": 62,
   "id": "2e89870f-f1e4-4098-9e5a-adfbca477575",
   "metadata": {},
   "outputs": [
    {
     "data": {
      "text/plain": [
       "array([0, 3, 6, 9])"
      ]
     },
     "execution_count": 62,
     "metadata": {},
     "output_type": "execute_result"
    }
   ],
   "source": [
    "range_array=np.arange(0,10,3)\n",
    "range_array"
   ]
  },
  {
   "cell_type": "markdown",
   "id": "f7c118bb-9f3e-4276-8e34-14ecf30b2200",
   "metadata": {},
   "source": [
    "**np.random.randint(low, high=None, size=None, dtype=int)**\n",
    "\n",
    "1.low: int or array-like of ints: Lowest integers are drawn from the random values.\n",
    "\n",
    "2.high: int or array-like of ints, optional: Larger or highest integers are drawn from the random values.\n",
    "\n",
    "3.size: int or tuple of ints, optional: The shape of the array you want to create.\n",
    "\n",
    "4.dtype: dtype, optional The type of the output you want.\n"
   ]
  },
  {
   "cell_type": "code",
   "execution_count": 107,
   "id": "627ae6a5-4794-4f72-8607-47bffb8c52b7",
   "metadata": {},
   "outputs": [
    {
     "data": {
      "text/plain": [
       "array([0, 0, 0, 0, 0])"
      ]
     },
     "execution_count": 107,
     "metadata": {},
     "output_type": "execute_result"
    }
   ],
   "source": [
    "# create a 1-D array\n",
    "a = np.random.randint(low = 1,size = 5)\n",
    "'''generates random integers between 0 (inclusive) and 1 (exclusive) \n",
    "which will always produce 0'''\n",
    "a"
   ]
  },
  {
   "cell_type": "code",
   "execution_count": 64,
   "id": "f7039fd4-046b-4191-b9fd-cde9c78fdaf7",
   "metadata": {},
   "outputs": [
    {
     "data": {
      "text/plain": [
       "array([[1, 5, 5],\n",
       "       [2, 5, 4]])"
      ]
     },
     "execution_count": 64,
     "metadata": {},
     "output_type": "execute_result"
    }
   ],
   "source": [
    "b=np.random.randint(low=1,high=6,size=(2,3))\n",
    "'''\n",
    "low=1: The smallest number in the array will be 1.\n",
    "high=6:(exclusive) The largest number in the array will be 6-1 = 5.\n",
    "size=(2, 3): The array will have 2 rows and 3 columns.'''\n",
    "b"
   ]
  },
  {
   "cell_type": "markdown",
   "id": "0640b4d5-c33d-484f-8ebb-e0f2752f5337",
   "metadata": {},
   "source": [
    "## concatenate"
   ]
  },
  {
   "cell_type": "code",
   "execution_count": 65,
   "id": "60adcf40-7e8c-4238-af4d-8b8952d6df16",
   "metadata": {},
   "outputs": [
    {
     "data": {
      "text/plain": [
       "array([[1, 2],\n",
       "       [3, 4]])"
      ]
     },
     "execution_count": 65,
     "metadata": {},
     "output_type": "execute_result"
    }
   ],
   "source": [
    "array2"
   ]
  },
  {
   "cell_type": "code",
   "execution_count": 66,
   "id": "a5c21c28-2dcc-45e4-9cb4-950ab8968f07",
   "metadata": {},
   "outputs": [
    {
     "data": {
      "text/plain": [
       "array([[ 5,  6,  7],\n",
       "       [ 8,  9, 10]])"
      ]
     },
     "execution_count": 66,
     "metadata": {},
     "output_type": "execute_result"
    }
   ],
   "source": [
    "ar2"
   ]
  },
  {
   "cell_type": "code",
   "execution_count": 67,
   "id": "f8b9ca59-d4cb-44dd-9fd4-24bf808f2af2",
   "metadata": {},
   "outputs": [
    {
     "name": "stdout",
     "output_type": "stream",
     "text": [
      "[[ 1  2  5  6  7]\n",
      " [ 3  4  8  9 10]]\n"
     ]
    }
   ],
   "source": [
    "# np.concatenate([array2,ar2])\n",
    "\n",
    "import numpy as np\n",
    "\n",
    "\n",
    "array2 = np.array([[1, 2], [3, 4]])\n",
    "ar2 = np.array([[5, 6, 7], [8, 9, 10]])\n",
    "\n",
    "result = np.concatenate([array2, ar2], axis=1)\n",
    "print(result)\n"
   ]
  },
  {
   "cell_type": "code",
   "execution_count": 68,
   "id": "638a8f8e-06e4-43be-897a-981eeac7b92a",
   "metadata": {},
   "outputs": [
    {
     "data": {
      "text/plain": [
       "array([[1, 2, 3],\n",
       "       [4, 5, 6]])"
      ]
     },
     "execution_count": 68,
     "metadata": {},
     "output_type": "execute_result"
    }
   ],
   "source": [
    "ar1"
   ]
  },
  {
   "cell_type": "code",
   "execution_count": 69,
   "id": "317f8c9f-7cbf-4215-ab20-0828b6dc41a8",
   "metadata": {},
   "outputs": [
    {
     "data": {
      "text/plain": [
       "array([[ 5,  6,  7],\n",
       "       [ 8,  9, 10]])"
      ]
     },
     "execution_count": 69,
     "metadata": {},
     "output_type": "execute_result"
    }
   ],
   "source": [
    "ar2"
   ]
  },
  {
   "cell_type": "code",
   "execution_count": 70,
   "id": "0a9b23f0-12e5-4d11-ba3e-0d9d350caa70",
   "metadata": {},
   "outputs": [
    {
     "data": {
      "text/plain": [
       "array([[ 1,  2,  3],\n",
       "       [ 4,  5,  6],\n",
       "       [ 5,  6,  7],\n",
       "       [ 8,  9, 10]])"
      ]
     },
     "execution_count": 70,
     "metadata": {},
     "output_type": "execute_result"
    }
   ],
   "source": [
    "np.concatenate([ar1,ar2])"
   ]
  },
  {
   "cell_type": "code",
   "execution_count": 71,
   "id": "a9fe61d9-7961-406d-a619-d967fab24e6a",
   "metadata": {},
   "outputs": [
    {
     "data": {
      "text/plain": [
       "array([[[1, 2],\n",
       "        [3, 4]],\n",
       "\n",
       "       [[5, 6],\n",
       "        [7, 8]]])"
      ]
     },
     "execution_count": 71,
     "metadata": {},
     "output_type": "execute_result"
    }
   ],
   "source": [
    "array3d"
   ]
  },
  {
   "cell_type": "code",
   "execution_count": 72,
   "id": "b5d8448c-b049-4289-9b91-93c5560d2a0b",
   "metadata": {},
   "outputs": [
    {
     "data": {
      "text/plain": [
       "array([1, 2, 3, 4, 5, 6, 7, 8])"
      ]
     },
     "execution_count": 72,
     "metadata": {},
     "output_type": "execute_result"
    }
   ],
   "source": [
    "#function returns a copy of the array collapsed into one dimension.\n",
    "flatarr=array3d.flatten()\n",
    "flatarr"
   ]
  },
  {
   "cell_type": "code",
   "execution_count": 73,
   "id": "74acfdd2-1213-420e-8d47-5e92b914fae4",
   "metadata": {},
   "outputs": [
    {
     "data": {
      "text/plain": [
       "array([[1, 2],\n",
       "       [3, 4]])"
      ]
     },
     "execution_count": 73,
     "metadata": {},
     "output_type": "execute_result"
    }
   ],
   "source": [
    "np.reshape(flatarr[:4],(2,2))"
   ]
  },
  {
   "cell_type": "code",
   "execution_count": 74,
   "id": "df5ed1c1-adeb-46f5-9cff-14989acd6928",
   "metadata": {},
   "outputs": [
    {
     "data": {
      "text/plain": [
       "array([[1., 0.],\n",
       "       [0., 1.]])"
      ]
     },
     "execution_count": 74,
     "metadata": {},
     "output_type": "execute_result"
    }
   ],
   "source": [
    "#create an identity matrix\n",
    "#used to create a 2D array with ones on the diagonal and zeros elsewhere\n",
    "np.eye(2)"
   ]
  },
  {
   "cell_type": "code",
   "execution_count": 75,
   "id": "938c62ef-0b01-4bb9-aa67-50573f2cf807",
   "metadata": {},
   "outputs": [
    {
     "data": {
      "text/plain": [
       "array([[1., 0., 0.],\n",
       "       [0., 1., 0.],\n",
       "       [0., 0., 1.]])"
      ]
     },
     "execution_count": 75,
     "metadata": {},
     "output_type": "execute_result"
    }
   ],
   "source": [
    "np.eye(3)"
   ]
  },
  {
   "cell_type": "code",
   "execution_count": 76,
   "id": "c7671fa7-e951-4586-816d-cae02d7e6b95",
   "metadata": {},
   "outputs": [
    {
     "data": {
      "text/html": [
       "<div>\n",
       "<style scoped>\n",
       "    .dataframe tbody tr th:only-of-type {\n",
       "        vertical-align: middle;\n",
       "    }\n",
       "\n",
       "    .dataframe tbody tr th {\n",
       "        vertical-align: top;\n",
       "    }\n",
       "\n",
       "    .dataframe thead th {\n",
       "        text-align: right;\n",
       "    }\n",
       "</style>\n",
       "<table border=\"1\" class=\"dataframe\">\n",
       "  <thead>\n",
       "    <tr style=\"text-align: right;\">\n",
       "      <th></th>\n",
       "      <th>0</th>\n",
       "      <th>1</th>\n",
       "    </tr>\n",
       "  </thead>\n",
       "  <tbody>\n",
       "    <tr>\n",
       "      <th>0</th>\n",
       "      <td>1</td>\n",
       "      <td>2</td>\n",
       "    </tr>\n",
       "    <tr>\n",
       "      <th>1</th>\n",
       "      <td>3</td>\n",
       "      <td>4</td>\n",
       "    </tr>\n",
       "  </tbody>\n",
       "</table>\n",
       "</div>"
      ],
      "text/plain": [
       "   0  1\n",
       "0  1  2\n",
       "1  3  4"
      ]
     },
     "execution_count": 76,
     "metadata": {},
     "output_type": "execute_result"
    }
   ],
   "source": [
    "#create a dataframe from numpy array\n",
    "import pandas as pd\n",
    "df=pd.DataFrame(array2)\n",
    "df"
   ]
  },
  {
   "cell_type": "code",
   "execution_count": 77,
   "id": "da93c15a-fb45-4bb7-9d70-4fb8143eb04d",
   "metadata": {},
   "outputs": [
    {
     "name": "stdout",
     "output_type": "stream",
     "text": [
      "Number of array dimensions.\n",
      "\n",
      "Examples\n",
      "--------\n",
      ">>> x = np.array([1, 2, 3])\n",
      ">>> x.ndim\n",
      "1\n",
      ">>> y = np.zeros((2, 3, 4))\n",
      ">>> y.ndim\n",
      "3\n"
     ]
    }
   ],
   "source": [
    "np.info(np.ndarray.ndim)"
   ]
  },
  {
   "cell_type": "code",
   "execution_count": 78,
   "id": "b95795fa-eef2-4a19-a0fb-f1a3c5382bf3",
   "metadata": {},
   "outputs": [
    {
     "name": "stdout",
     "output_type": "stream",
     "text": [
      " concatenate()\n",
      "\n",
      "concatenate((a1, a2, ...), axis=0, out=None, dtype=None, casting=\"same_kind\")\n",
      "\n",
      "Join a sequence of arrays along an existing axis.\n",
      "\n",
      "Parameters\n",
      "----------\n",
      "a1, a2, ... : sequence of array_like\n",
      "    The arrays must have the same shape, except in the dimension\n",
      "    corresponding to `axis` (the first, by default).\n",
      "axis : int, optional\n",
      "    The axis along which the arrays will be joined.  If axis is None,\n",
      "    arrays are flattened before use.  Default is 0.\n",
      "out : ndarray, optional\n",
      "    If provided, the destination to place the result. The shape must be\n",
      "    correct, matching that of what concatenate would have returned if no\n",
      "    out argument were specified.\n",
      "dtype : str or dtype\n",
      "    If provided, the destination array will have this dtype. Cannot be\n",
      "    provided together with `out`.\n",
      "\n",
      "    .. versionadded:: 1.20.0\n",
      "\n",
      "casting : {'no', 'equiv', 'safe', 'same_kind', 'unsafe'}, optional\n",
      "    Controls what kind of data casting may occur. Defaults to 'same_kind'.\n",
      "\n",
      "    .. versionadded:: 1.20.0\n",
      "\n",
      "Returns\n",
      "-------\n",
      "res : ndarray\n",
      "    The concatenated array.\n",
      "\n",
      "See Also\n",
      "--------\n",
      "ma.concatenate : Concatenate function that preserves input masks.\n",
      "array_split : Split an array into multiple sub-arrays of equal or\n",
      "              near-equal size.\n",
      "split : Split array into a list of multiple sub-arrays of equal size.\n",
      "hsplit : Split array into multiple sub-arrays horizontally (column wise).\n",
      "vsplit : Split array into multiple sub-arrays vertically (row wise).\n",
      "dsplit : Split array into multiple sub-arrays along the 3rd axis (depth).\n",
      "stack : Stack a sequence of arrays along a new axis.\n",
      "block : Assemble arrays from blocks.\n",
      "hstack : Stack arrays in sequence horizontally (column wise).\n",
      "vstack : Stack arrays in sequence vertically (row wise).\n",
      "dstack : Stack arrays in sequence depth wise (along third dimension).\n",
      "column_stack : Stack 1-D arrays as columns into a 2-D array.\n",
      "\n",
      "Notes\n",
      "-----\n",
      "When one or more of the arrays to be concatenated is a MaskedArray,\n",
      "this function will return a MaskedArray object instead of an ndarray,\n",
      "but the input masks are *not* preserved. In cases where a MaskedArray\n",
      "is expected as input, use the ma.concatenate function from the masked\n",
      "array module instead.\n",
      "\n",
      "Examples\n",
      "--------\n",
      ">>> a = np.array([[1, 2], [3, 4]])\n",
      ">>> b = np.array([[5, 6]])\n",
      ">>> np.concatenate((a, b), axis=0)\n",
      "array([[1, 2],\n",
      "       [3, 4],\n",
      "       [5, 6]])\n",
      ">>> np.concatenate((a, b.T), axis=1)\n",
      "array([[1, 2, 5],\n",
      "       [3, 4, 6]])\n",
      ">>> np.concatenate((a, b), axis=None)\n",
      "array([1, 2, 3, 4, 5, 6])\n",
      "\n",
      "This function will not preserve masking of MaskedArray inputs.\n",
      "\n",
      ">>> a = np.ma.arange(3)\n",
      ">>> a[1] = np.ma.masked\n",
      ">>> b = np.arange(2, 5)\n",
      ">>> a\n",
      "masked_array(data=[0, --, 2],\n",
      "             mask=[False,  True, False],\n",
      "       fill_value=999999)\n",
      ">>> b\n",
      "array([2, 3, 4])\n",
      ">>> np.concatenate([a, b])\n",
      "masked_array(data=[0, 1, 2, 2, 3, 4],\n",
      "             mask=False,\n",
      "       fill_value=999999)\n",
      ">>> np.ma.concatenate([a, b])\n",
      "masked_array(data=[0, --, 2, 2, 3, 4],\n",
      "             mask=[False,  True, False, False, False, False],\n",
      "       fill_value=999999)\n"
     ]
    }
   ],
   "source": [
    "np.info(np.concatenate)"
   ]
  },
  {
   "cell_type": "code",
   "execution_count": null,
   "id": "460b71b5-7ed0-4d21-816a-3718fd9955d1",
   "metadata": {},
   "outputs": [],
   "source": []
  }
 ],
 "metadata": {
  "kernelspec": {
   "display_name": "Python 3 (ipykernel)",
   "language": "python",
   "name": "python3"
  },
  "language_info": {
   "codemirror_mode": {
    "name": "ipython",
    "version": 3
   },
   "file_extension": ".py",
   "mimetype": "text/x-python",
   "name": "python",
   "nbconvert_exporter": "python",
   "pygments_lexer": "ipython3",
   "version": "3.11.5"
  }
 },
 "nbformat": 4,
 "nbformat_minor": 5
}
